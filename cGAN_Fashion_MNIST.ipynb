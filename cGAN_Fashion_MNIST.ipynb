{
  "nbformat": 4,
  "nbformat_minor": 0,
  "metadata": {
    "colab": {
      "name": "cGAN Fashion MNIST.ipynb",
      "provenance": [],
      "collapsed_sections": [
        "LmqvESxb1wk6"
      ]
    },
    "kernelspec": {
      "name": "python3",
      "display_name": "Python 3"
    },
    "language_info": {
      "name": "python"
    },
    "accelerator": "GPU"
  },
  "cells": [
    {
      "cell_type": "markdown",
      "metadata": {
        "id": "LmqvESxb1wk6"
      },
      "source": [
        "# Importing the data"
      ]
    },
    {
      "cell_type": "code",
      "metadata": {
        "colab": {
          "base_uri": "https://localhost:8080/"
        },
        "id": "jmI9Ky7j8gKp",
        "outputId": "7055cf09-56a9-46b1-c08e-c7bdda202dd4"
      },
      "source": [
        "import torch\n",
        "from torchvision import transforms, datasets\n",
        "import torch.nn as nn\n",
        "from torch import optim as optim\n",
        "import matplotlib.pyplot as plt\n",
        "import random as rd\n",
        "\n",
        "# We want to run it on a GPU if possible (I use Google Colab)\n",
        "#device=torch.device(\"cpu\")\n",
        "device = torch.device(\"cuda\" if torch.cuda.is_available() else \"cpu\")\n",
        "print(device)"
      ],
      "execution_count": 5,
      "outputs": [
        {
          "output_type": "stream",
          "text": [
            "cuda\n"
          ],
          "name": "stdout"
        }
      ]
    },
    {
      "cell_type": "code",
      "metadata": {
        "id": "-MusRUEfgM3H"
      },
      "source": [
        "# Defining the training parameters\n",
        "training_parameters = {\"n_epochs\": 80,\"batch_size\": 20}\n",
        "\n",
        "# Importing the full training dataset\n",
        "dataset_full = datasets.FashionMNIST('./', train = True, download = True, \n",
        "                                                 transform = transforms.Compose([transforms.ToTensor(),transforms.Normalize((0.5,), (0.5,))]))\n",
        "# Selecting classes 0 and 2\n",
        "indexes = (dataset_full.targets==0) | (dataset_full.targets==2)\n",
        "dataset_full.targets = dataset_full.targets[indexes]\n",
        "dataset_full.data = dataset_full.data[indexes]\n",
        "\n",
        "# Creating the DataLoader object\n",
        "data_loader = torch.utils.data.DataLoader(dataset_full, batch_size=training_parameters[\"batch_size\"], shuffle=True)"
      ],
      "execution_count": 6,
      "outputs": []
    },
    {
      "cell_type": "markdown",
      "metadata": {
        "id": "B6Pz9qIhxdGH"
      },
      "source": [
        "# Definition of the models"
      ]
    },
    {
      "cell_type": "code",
      "metadata": {
        "colab": {
          "base_uri": "https://localhost:8080/"
        },
        "id": "yCduc44OKxSF",
        "outputId": "96d2c0bd-7d07-4ea5-b3f2-9d50c047acdc"
      },
      "source": [
        "class GeneratorModel(nn.Module):\n",
        "    def __init__(self):\n",
        "        super(GeneratorModel, self).__init__()\n",
        "        input_dim = 100 + 2#100 is the dimension we chose for the random noise, and 2 corresponds to the number of classes we have\n",
        "        output_dim = 784#corresponds to 28*28 i.e. the image size\n",
        "        self.label_embedding = nn.Embedding(10, 2)\n",
        "        self.hid1 = nn.Sequential(nn.Linear(input_dim, 256),nn.LeakyReLU(0.2))\n",
        "        self.hid2 = nn.Sequential(nn.Linear(256, 512),nn.LeakyReLU(0.2))\n",
        "        self.hid3 = nn.Sequential(nn.Linear(512, 1024),nn.LeakyReLU(0.2))\n",
        "        self.hid4 = nn.Sequential(nn.Linear(1024, output_dim),nn.Tanh())\n",
        "    \n",
        "    def forward(self, x, labels):\n",
        "        c = self.label_embedding(labels)\n",
        "        x = torch.cat([x,c], 1)\n",
        "        output = self.hid1(x)\n",
        "        output = self.hid2(output)\n",
        "        output = self.hid3(output)\n",
        "        output = self.hid4(output)\n",
        "        return output.to(device)\n",
        "\n",
        "class DiscriminatorModel(nn.Module):\n",
        "    def __init__(self):\n",
        "        super(DiscriminatorModel, self).__init__()\n",
        "        input_dim = 784 + 2\n",
        "        output_dim = 1\n",
        "        self.label_embedding = nn.Embedding(10, 2)\n",
        "        self.hidden_layer1 = nn.Sequential(nn.Linear(input_dim, 1024),nn.LeakyReLU(0.2),nn.Dropout(0.3))\n",
        "        self.hidden_layer2 = nn.Sequential(nn.Linear(1024, 512),nn.LeakyReLU(0.2),nn.Dropout(0.3))\n",
        "        self.hidden_layer3 = nn.Sequential(nn.Linear(512, 256),nn.LeakyReLU(0.2),nn.Dropout(0.3))\n",
        "        self.hidden_layer4 = nn.Sequential(nn.Linear(256, output_dim),nn.Sigmoid())\n",
        "\n",
        "    def forward(self, x, labels):\n",
        "        c = self.label_embedding(labels)\n",
        "        x = torch.cat([x, c], 1)\n",
        "        output = self.hidden_layer1(x)\n",
        "        output = self.hidden_layer2(output)\n",
        "        output = self.hidden_layer3(output)\n",
        "        output = self.hidden_layer4(output)\n",
        "        return output.to(device)\n",
        "\n",
        "discriminator = DiscriminatorModel()\n",
        "generator = GeneratorModel()\n",
        "discriminator.to(device)\n",
        "generator.to(device)"
      ],
      "execution_count": 7,
      "outputs": [
        {
          "output_type": "execute_result",
          "data": {
            "text/plain": [
              "GeneratorModel(\n",
              "  (label_embedding): Embedding(10, 2)\n",
              "  (hid1): Sequential(\n",
              "    (0): Linear(in_features=102, out_features=256, bias=True)\n",
              "    (1): LeakyReLU(negative_slope=0.2)\n",
              "  )\n",
              "  (hid2): Sequential(\n",
              "    (0): Linear(in_features=256, out_features=512, bias=True)\n",
              "    (1): LeakyReLU(negative_slope=0.2)\n",
              "  )\n",
              "  (hid3): Sequential(\n",
              "    (0): Linear(in_features=512, out_features=1024, bias=True)\n",
              "    (1): LeakyReLU(negative_slope=0.2)\n",
              "  )\n",
              "  (hid4): Sequential(\n",
              "    (0): Linear(in_features=1024, out_features=784, bias=True)\n",
              "    (1): Tanh()\n",
              "  )\n",
              ")"
            ]
          },
          "metadata": {
            "tags": []
          },
          "execution_count": 7
        }
      ]
    },
    {
      "cell_type": "markdown",
      "metadata": {
        "id": "f3KUCP-gjxLC"
      },
      "source": [
        "According to PyTorch documentation, the mathematical formula for the loss function we use here is:\n",
        "\n",
        "$\\mathcal{l(x,y) = mean(L) = mean(\\begin{pmatrix}l_{1} & ... &  l_{n}\\end{pmatrix}^T)}$ where $\\mathcal{l_{i} = -w_{i}\\left ( y_{i} \\cdot  log(x_{i}) + (1-y_{i}) \\cdot  log(1 - x_{i})\\right )}$"
      ]
    },
    {
      "cell_type": "code",
      "metadata": {
        "id": "w7Yu3dYmLCxn"
      },
      "source": [
        "discriminator_optimizer = optim.Adam(discriminator.parameters(), lr=0.0002)\n",
        "generator_optimizer = optim.Adam(generator.parameters(), lr=0.0002)\n",
        "\n",
        "loss = nn.BCELoss()"
      ],
      "execution_count": 8,
      "outputs": []
    },
    {
      "cell_type": "markdown",
      "metadata": {
        "id": "pxNhFAxYx_BF"
      },
      "source": [
        "# Training"
      ]
    },
    {
      "cell_type": "code",
      "metadata": {
        "colab": {
          "base_uri": "https://localhost:8080/",
          "height": 1000
        },
        "id": "q_zJPleimIWm",
        "outputId": "089b327c-371d-4835-dc04-3c01698daf18"
      },
      "source": [
        "n_epochs = training_parameters[\"n_epochs\"]\n",
        "batch_size = training_parameters[\"batch_size\"]\n",
        "G_loss = [0]*n_epochs\n",
        "D_loss = [0]*n_epochs\n",
        "for epoch_idx in range(n_epochs):\n",
        "    G_loss_tmp = []\n",
        "    D_loss_tmp = []\n",
        "    for batch_idx, data_input in enumerate(data_loader):\n",
        "        # Generating fake images\n",
        "        noise = torch.randn(batch_size,100).to(device)\n",
        "        fake_labels = (2*torch.randint(0, 2, (batch_size,))).to(device)\n",
        "        generated_data = generator(noise, fake_labels)# this generate batch_size vectors of dimension 784 ie batch_size fake images\n",
        "\n",
        "        # Discriminator part\n",
        "        true_data = data_input[0].view(batch_size, 784).to(device)# this corresponds to batch_size real images\n",
        "        clothes_labels = data_input[1].to(device)# and their corresponding batch_size categories (t-shirt or pullover)\n",
        "        true_labels = torch.ones(batch_size).to(device)# as these are real images, we associate them to 1 which is the label for 'real image'\n",
        "        discriminator_optimizer.zero_grad()\n",
        "\n",
        "        discriminator_output_for_true_data = discriminator(true_data, clothes_labels).view(batch_size)\n",
        "        true_discriminator_loss = loss(discriminator_output_for_true_data, true_labels)\n",
        "\n",
        "        discriminator_output_for_generated_data = discriminator(generated_data.detach(), fake_labels).view(batch_size)\n",
        "        generator_discriminator_loss = loss(discriminator_output_for_generated_data, torch.zeros(batch_size).to(device))\n",
        "\n",
        "        discriminator_loss = (true_discriminator_loss + generator_discriminator_loss) / 2\n",
        "        discriminator_loss.backward()\n",
        "        discriminator_optimizer.step()\n",
        "        D_loss_tmp.append(discriminator_loss.data.item())\n",
        "        \n",
        "        # Generator part\n",
        "        generator_optimizer.zero_grad()\n",
        "        generated_data = generator(noise, fake_labels)\n",
        "        discriminator_output_on_generated_data = discriminator(generated_data, fake_labels).view(batch_size)\n",
        "        generator_loss = loss(discriminator_output_on_generated_data, true_labels)\n",
        "        generator_loss.backward()\n",
        "        generator_optimizer.step()\n",
        "        \n",
        "        G_loss_tmp.append(generator_loss.data.item())\n",
        "        if ((batch_idx + 1)% 500 == 0 and (epoch_idx + 1)%10 == 0):\n",
        "            print(\"Training Epochs Completed: \", epoch_idx)\n",
        "            \n",
        "            with torch.no_grad():\n",
        "                noise = torch.randn(batch_size,100).to(device)\n",
        "                fake_labels = (2*torch.randint(0, 2, (batch_size,))).to(device)\n",
        "                generated_data = generator(noise, fake_labels).cpu().view(batch_size, 28, 28)\n",
        "                for x in generated_data:\n",
        "                    print(\"Generated image for label:\", fake_labels[0].item())\n",
        "                    plt.imshow(x.detach().numpy(), interpolation='nearest',cmap='gray')\n",
        "                    plt.show()\n",
        "                    break\n",
        "\n",
        "    G_loss[epoch_idx] = torch.mean(torch.FloatTensor(G_loss_tmp))\n",
        "    D_loss[epoch_idx] = torch.mean(torch.FloatTensor(D_loss_tmp))\n",
        "    print('[%d/%d]: loss_d: %.3f, loss_g: %.3f' % (\n",
        "            (epoch_idx)+1, n_epochs, torch.mean(torch.FloatTensor(D_loss_tmp)), torch.mean(torch.FloatTensor(G_loss_tmp))))"
      ],
      "execution_count": 9,
      "outputs": [
        {
          "output_type": "stream",
          "text": [
            "[1/80]: loss_d: 0.432, loss_g: 2.316\n",
            "[2/80]: loss_d: 0.338, loss_g: 2.618\n",
            "[3/80]: loss_d: 0.372, loss_g: 2.165\n",
            "[4/80]: loss_d: 0.425, loss_g: 1.870\n",
            "[5/80]: loss_d: 0.421, loss_g: 1.778\n",
            "[6/80]: loss_d: 0.436, loss_g: 1.635\n",
            "[7/80]: loss_d: 0.480, loss_g: 1.455\n",
            "[8/80]: loss_d: 0.536, loss_g: 1.243\n",
            "[9/80]: loss_d: 0.559, loss_g: 1.140\n",
            "Training Epochs Completed:  9\n",
            "Generated image for label: 2\n"
          ],
          "name": "stdout"
        },
        {
          "output_type": "display_data",
          "data": {
            "image/png": "[encoded data removed]",
            "text/plain": [
              "<Figure size 432x288 with 1 Axes>"
            ]
          },
          "metadata": {
            "tags": [],
            "needs_background": "light"
          }
        },
        {
          "output_type": "stream",
          "text": [
            "[10/80]: loss_d: 0.581, loss_g: 1.083\n",
            "[11/80]: loss_d: 0.554, loss_g: 1.165\n",
            "[12/80]: loss_d: 0.548, loss_g: 1.212\n",
            "[13/80]: loss_d: 0.557, loss_g: 1.184\n",
            "[14/80]: loss_d: 0.574, loss_g: 1.074\n",
            "[15/80]: loss_d: 0.567, loss_g: 1.147\n",
            "[16/80]: loss_d: 0.570, loss_g: 1.093\n",
            "[17/80]: loss_d: 0.543, loss_g: 1.283\n",
            "[18/80]: loss_d: 0.572, loss_g: 1.143\n",
            "[19/80]: loss_d: 0.581, loss_g: 1.067\n",
            "Training Epochs Completed:  19\n",
            "Generated image for label: 2\n"
          ],
          "name": "stdout"
        },
        {
          "output_type": "display_data",
          "data": {
            "image/png": "[encoded data removed]",
            "text/plain": [
              "<Figure size 432x288 with 1 Axes>"
            ]
          },
          "metadata": {
            "tags": [],
            "needs_background": "light"
          }
        },
        {
          "output_type": "stream",
          "text": [
            "[20/80]: loss_d: 0.571, loss_g: 1.113\n",
            "[21/80]: loss_d: 0.591, loss_g: 1.069\n",
            "[22/80]: loss_d: 0.578, loss_g: 1.102\n",
            "[23/80]: loss_d: 0.578, loss_g: 1.067\n",
            "[24/80]: loss_d: 0.599, loss_g: 1.039\n",
            "[25/80]: loss_d: 0.583, loss_g: 1.064\n",
            "[26/80]: loss_d: 0.593, loss_g: 1.047\n",
            "[27/80]: loss_d: 0.591, loss_g: 1.030\n",
            "[28/80]: loss_d: 0.594, loss_g: 1.010\n",
            "[29/80]: loss_d: 0.591, loss_g: 1.042\n",
            "Training Epochs Completed:  29\n",
            "Generated image for label: 0\n"
          ],
          "name": "stdout"
        },
        {
          "output_type": "display_data",
          "data": {
            "image/png": "[encoded data removed]",
            "text/plain": [
              "<Figure size 432x288 with 1 Axes>"
            ]
          },
          "metadata": {
            "tags": [],
            "needs_background": "light"
          }
        },
        {
          "output_type": "stream",
          "text": [
            "[30/80]: loss_d: 0.592, loss_g: 1.060\n",
            "[31/80]: loss_d: 0.588, loss_g: 1.047\n",
            "[32/80]: loss_d: 0.610, loss_g: 1.001\n",
            "[33/80]: loss_d: 0.600, loss_g: 0.988\n",
            "[34/80]: loss_d: 0.617, loss_g: 0.960\n",
            "[35/80]: loss_d: 0.609, loss_g: 0.959\n",
            "[36/80]: loss_d: 0.606, loss_g: 1.015\n",
            "[37/80]: loss_d: 0.599, loss_g: 1.013\n",
            "[38/80]: loss_d: 0.609, loss_g: 0.995\n",
            "[39/80]: loss_d: 0.609, loss_g: 1.029\n",
            "Training Epochs Completed:  39\n",
            "Generated image for label: 0\n"
          ],
          "name": "stdout"
        },
        {
          "output_type": "display_data",
          "data": {
            "image/png": "[encoded data removed]",
            "text/plain": [
              "<Figure size 432x288 with 1 Axes>"
            ]
          },
          "metadata": {
            "tags": [],
            "needs_background": "light"
          }
        },
        {
          "output_type": "stream",
          "text": [
            "[40/80]: loss_d: 0.616, loss_g: 0.974\n",
            "[41/80]: loss_d: 0.606, loss_g: 0.998\n",
            "[42/80]: loss_d: 0.606, loss_g: 0.989\n",
            "[43/80]: loss_d: 0.616, loss_g: 0.954\n",
            "[44/80]: loss_d: 0.610, loss_g: 0.977\n",
            "[45/80]: loss_d: 0.621, loss_g: 0.967\n",
            "[46/80]: loss_d: 0.602, loss_g: 0.970\n",
            "[47/80]: loss_d: 0.613, loss_g: 0.988\n",
            "[48/80]: loss_d: 0.609, loss_g: 0.977\n",
            "[49/80]: loss_d: 0.607, loss_g: 0.980\n",
            "Training Epochs Completed:  49\n",
            "Generated image for label: 0\n"
          ],
          "name": "stdout"
        },
        {
          "output_type": "display_data",
          "data": {
            "image/png": "[encoded data removed]",
            "text/plain": [
              "<Figure size 432x288 with 1 Axes>"
            ]
          },
          "metadata": {
            "tags": [],
            "needs_background": "light"
          }
        },
        {
          "output_type": "stream",
          "text": [
            "[50/80]: loss_d: 0.608, loss_g: 1.033\n",
            "[51/80]: loss_d: 0.610, loss_g: 0.977\n",
            "[52/80]: loss_d: 0.620, loss_g: 0.958\n",
            "[53/80]: loss_d: 0.619, loss_g: 0.960\n",
            "[54/80]: loss_d: 0.617, loss_g: 0.968\n",
            "[55/80]: loss_d: 0.626, loss_g: 0.928\n",
            "[56/80]: loss_d: 0.624, loss_g: 0.951\n",
            "[57/80]: loss_d: 0.621, loss_g: 0.960\n",
            "[58/80]: loss_d: 0.619, loss_g: 0.947\n",
            "[59/80]: loss_d: 0.616, loss_g: 0.952\n",
            "Training Epochs Completed:  59\n",
            "Generated image for label: 0\n"
          ],
          "name": "stdout"
        },
        {
          "output_type": "display_data",
          "data": {
            "image/png": "[encoded data removed]",
            "text/plain": [
              "<Figure size 432x288 with 1 Axes>"
            ]
          },
          "metadata": {
            "tags": [],
            "needs_background": "light"
          }
        },
        {
          "output_type": "stream",
          "text": [
            "[60/80]: loss_d: 0.616, loss_g: 0.948\n",
            "[61/80]: loss_d: 0.624, loss_g: 0.945\n",
            "[62/80]: loss_d: 0.626, loss_g: 0.941\n",
            "[63/80]: loss_d: 0.622, loss_g: 0.943\n",
            "[64/80]: loss_d: 0.622, loss_g: 0.961\n",
            "[65/80]: loss_d: 0.626, loss_g: 0.933\n",
            "[66/80]: loss_d: 0.620, loss_g: 0.942\n",
            "[67/80]: loss_d: 0.635, loss_g: 0.907\n",
            "[68/80]: loss_d: 0.634, loss_g: 0.908\n",
            "[69/80]: loss_d: 0.630, loss_g: 0.932\n",
            "Training Epochs Completed:  69\n",
            "Generated image for label: 2\n"
          ],
          "name": "stdout"
        },
        {
          "output_type": "display_data",
          "data": {
            "image/png": "[encoded data removed]",
            "text/plain": [
              "<Figure size 432x288 with 1 Axes>"
            ]
          },
          "metadata": {
            "tags": [],
            "needs_background": "light"
          }
        },
        {
          "output_type": "stream",
          "text": [
            "[70/80]: loss_d: 0.624, loss_g: 0.965\n",
            "[71/80]: loss_d: 0.614, loss_g: 1.025\n",
            "[72/80]: loss_d: 0.601, loss_g: 1.011\n",
            "[73/80]: loss_d: 0.615, loss_g: 0.978\n",
            "[74/80]: loss_d: 0.617, loss_g: 0.960\n",
            "[75/80]: loss_d: 0.628, loss_g: 0.919\n",
            "[76/80]: loss_d: 0.632, loss_g: 0.908\n",
            "[77/80]: loss_d: 0.631, loss_g: 0.934\n",
            "[78/80]: loss_d: 0.624, loss_g: 0.935\n",
            "[79/80]: loss_d: 0.630, loss_g: 0.926\n",
            "Training Epochs Completed:  79\n",
            "Generated image for label: 2\n"
          ],
          "name": "stdout"
        },
        {
          "output_type": "display_data",
          "data": {
            "image/png": "[encoded data removed]",
            "text/plain": [
              "<Figure size 432x288 with 1 Axes>"
            ]
          },
          "metadata": {
            "tags": [],
            "needs_background": "light"
          }
        },
        {
          "output_type": "stream",
          "text": [
            "[80/80]: loss_d: 0.630, loss_g: 0.930\n"
          ],
          "name": "stdout"
        }
      ]
    },
    {
      "cell_type": "markdown",
      "metadata": {
        "id": "uXZSa7mx0kMb"
      },
      "source": [
        "# Loss curves"
      ]
    },
    {
      "cell_type": "code",
      "metadata": {
        "colab": {
          "base_uri": "https://localhost:8080/",
          "height": 265
        },
        "id": "PFtdqsynNys1",
        "outputId": "9cd2861b-46a5-4d68-ef17-54b4ea1f334e"
      },
      "source": [
        "plt.figure()\n",
        "plt.plot(D_loss)\n",
        "plt.plot(G_loss)\n",
        "plt.legend([\"Discriminator loss\", \"Generator loss\"])\n",
        "plt.show()"
      ],
      "execution_count": 10,
      "outputs": [
        {
          "output_type": "display_data",
          "data": {
            "image/png": "[encoded data removed]",
            "text/plain": [
              "<Figure size 432x288 with 1 Axes>"
            ]
          },
          "metadata": {
            "tags": [],
            "needs_background": "light"
          }
        }
      ]
    },
    {
      "cell_type": "markdown",
      "metadata": {
        "id": "p0s_rxty0m8D"
      },
      "source": [
        "# Example of generated images versus real images"
      ]
    },
    {
      "cell_type": "code",
      "metadata": {
        "colab": {
          "base_uri": "https://localhost:8080/",
          "height": 1000
        },
        "id": "xWjxhzvu4HLl",
        "outputId": "384bd1fe-eb6d-4433-9c96-9a66203374cd"
      },
      "source": [
        "c=0\n",
        "for image,label in data_loader:\n",
        "    print(\"Real image with label\",label[0].item())\n",
        "    plt.imshow(image.numpy()[0][0], cmap='gray')\n",
        "    plt.show()\n",
        "    if c == 3:\n",
        "        break\n",
        "    else:\n",
        "        c+=1\n",
        "\n",
        "c=0\n",
        "with torch.no_grad():\n",
        "    noise = torch.randn(2,100).to(device)\n",
        "    fake_labels = torch.tensor([2, 0]).to(device)\n",
        "    generated_data = generator(noise, fake_labels).cpu().view(2, 28, 28)\n",
        "    i = 0\n",
        "    for x in generated_data:\n",
        "        print(\"Fake image generated with label\", fake_labels[i].item())\n",
        "        plt.imshow(x.detach().numpy(), interpolation='nearest',cmap='gray')\n",
        "        plt.show()\n",
        "        i+=1"
      ],
      "execution_count": 20,
      "outputs": [
        {
          "output_type": "stream",
          "text": [
            "Real image with label 2\n"
          ],
          "name": "stdout"
        },
        {
          "output_type": "display_data",
          "data": {
            "image/png": "[encoded data removed]",
            "text/plain": [
              "<Figure size 432x288 with 1 Axes>"
            ]
          },
          "metadata": {
            "tags": [],
            "needs_background": "light"
          }
        },
        {
          "output_type": "stream",
          "text": [
            "Real image with label 2\n"
          ],
          "name": "stdout"
        },
        {
          "output_type": "display_data",
          "data": {
            "image/png": "[encoded data removed]",
            "text/plain": [
              "<Figure size 432x288 with 1 Axes>"
            ]
          },
          "metadata": {
            "tags": [],
            "needs_background": "light"
          }
        },
        {
          "output_type": "stream",
          "text": [
            "Real image with label 0\n"
          ],
          "name": "stdout"
        },
        {
          "output_type": "display_data",
          "data": {
            "image/png": "[encoded data removed]",
            "text/plain": [
              "<Figure size 432x288 with 1 Axes>"
            ]
          },
          "metadata": {
            "tags": [],
            "needs_background": "light"
          }
        },
        {
          "output_type": "stream",
          "text": [
            "Real image with label 2\n"
          ],
          "name": "stdout"
        },
        {
          "output_type": "display_data",
          "data": {
            "image/png": "[encoded data removed]",
            "text/plain": [
              "<Figure size 432x288 with 1 Axes>"
            ]
          },
          "metadata": {
            "tags": [],
            "needs_background": "light"
          }
        },
        {
          "output_type": "stream",
          "text": [
            "Fake image generated with label 2\n"
          ],
          "name": "stdout"
        },
        {
          "output_type": "display_data",
          "data": {
            "image/png": "[encoded data removed]",
            "text/plain": [
              "<Figure size 432x288 with 1 Axes>"
            ]
          },
          "metadata": {
            "tags": [],
            "needs_background": "light"
          }
        },
        {
          "output_type": "stream",
          "text": [
            "Fake image generated with label 0\n"
          ],
          "name": "stdout"
        },
        {
          "output_type": "display_data",
          "data": {
            "image/png": "[encoded data removed]",
            "text/plain": [
              "<Figure size 432x288 with 1 Axes>"
            ]
          },
          "metadata": {
            "tags": [],
            "needs_background": "light"
          }
        }
      ]
    },
    {
      "cell_type": "markdown",
      "metadata": {
        "id": "Gv_edtrN1YZM"
      },
      "source": [
        "# Accuracy of the discriminator"
      ]
    },
    {
      "cell_type": "code",
      "metadata": {
        "id": "2eMaZrev62k_"
      },
      "source": [
        "# Generation of 1k fake images\n",
        "with torch.no_grad():\n",
        "    noise = torch.randn(1000,100).to(device)\n",
        "    fake_labels = (2*torch.randint(0, 2, (1000,))).to(device)# dimension 1000x1\n",
        "    generated_data = generator(noise, fake_labels).to(device).view(1000, 28, 28)# dimension 1000x28x28 i.e. 1000 images"
      ],
      "execution_count": 49,
      "outputs": []
    },
    {
      "cell_type": "code",
      "metadata": {
        "colab": {
          "base_uri": "https://localhost:8080/"
        },
        "id": "2dvdIXchUcWV",
        "outputId": "42e07217-ef9a-474c-80ff-fd66937fe22b"
      },
      "source": [
        "# Sampling of 1k real images\n",
        "dataset_test = datasets.FashionMNIST('./', train = False, download = True, \n",
        "                                                 transform = transforms.Compose([transforms.ToTensor(),transforms.Normalize((0.5,), (0.5,))]))\n",
        "indexes = (dataset_test.targets==0) | (dataset_test.targets==2)\n",
        "dataset_test.targets = dataset_test.targets[indexes]\n",
        "dataset_test.data = dataset_test.data[indexes]\n",
        "true_labels = dataset_test.targets[0:1000].to(device)\n",
        "true_images = dataset_test.data[0:1000].to(device)\n",
        "\n",
        "# We concatenate to create the testing dataset\n",
        "test_labels = torch.cat((fake_labels, true_labels))# 2000 labels\n",
        "test_images = torch.cat((generated_data, true_images))# 2000 images\n",
        "print(test_labels.size())\n",
        "print(test_images.size())"
      ],
      "execution_count": 95,
      "outputs": [
        {
          "output_type": "stream",
          "text": [
            "torch.Size([2000])\n",
            "torch.Size([2000, 28, 28])\n"
          ],
          "name": "stdout"
        }
      ]
    },
    {
      "cell_type": "code",
      "metadata": {
        "colab": {
          "base_uri": "https://localhost:8080/",
          "height": 397
        },
        "id": "TB1vKA2LdxCD",
        "outputId": "2e1fef59-6b4d-48f7-9de6-a99ea7e5d765"
      },
      "source": [
        "# Testing the discriminator\n",
        "acc = 0\n",
        "discriminator_output = discriminator(test_images.detach(), test_labels)\n",
        "\n",
        "for i in range(2000):\n",
        "    if i<1000:#if we are in the first 1000 inputs, the image is fake\n",
        "        if discriminator_output[i]==0:#so we should have 0 as output of the discriminator\n",
        "            acc += 1\n",
        "    else:# if we are in the last 1000 inputs, the image is real\n",
        "        if discriminator_output[i]==1:#so we should have 1 as output of the discriminator\n",
        "            acc += 1\n",
        "acc = acc/2000\n",
        "print(\"The accuracy of the discriminator on the testing dataset is:\", acc)"
      ],
      "execution_count": 97,
      "outputs": [
        {
          "output_type": "error",
          "ename": "RuntimeError",
          "evalue": "ignored",
          "traceback": [
            "\u001b[0;31m---------------------------------------------------------------------------\u001b[0m",
            "\u001b[0;31mRuntimeError\u001b[0m                              Traceback (most recent call last)",
            "\u001b[0;32m<ipython-input-97-2fe590001b34>\u001b[0m in \u001b[0;36m<module>\u001b[0;34m()\u001b[0m\n\u001b[1;32m      1\u001b[0m \u001b[0;31m# Testing the discriminator\u001b[0m\u001b[0;34m\u001b[0m\u001b[0;34m\u001b[0m\u001b[0;34m\u001b[0m\u001b[0m\n\u001b[1;32m      2\u001b[0m \u001b[0macc\u001b[0m \u001b[0;34m=\u001b[0m \u001b[0;36m0\u001b[0m\u001b[0;34m\u001b[0m\u001b[0;34m\u001b[0m\u001b[0m\n\u001b[0;32m----> 3\u001b[0;31m \u001b[0mdiscriminator_output\u001b[0m \u001b[0;34m=\u001b[0m \u001b[0mdiscriminator\u001b[0m\u001b[0;34m(\u001b[0m\u001b[0mtest_images\u001b[0m\u001b[0;34m.\u001b[0m\u001b[0mdetach\u001b[0m\u001b[0;34m(\u001b[0m\u001b[0;34m)\u001b[0m\u001b[0;34m,\u001b[0m \u001b[0mtest_labels\u001b[0m\u001b[0;34m)\u001b[0m\u001b[0;34m\u001b[0m\u001b[0;34m\u001b[0m\u001b[0m\n\u001b[0m\u001b[1;32m      4\u001b[0m \u001b[0;34m\u001b[0m\u001b[0m\n\u001b[1;32m      5\u001b[0m \u001b[0;32mfor\u001b[0m \u001b[0mi\u001b[0m \u001b[0;32min\u001b[0m \u001b[0mrange\u001b[0m\u001b[0;34m(\u001b[0m\u001b[0;36m2000\u001b[0m\u001b[0;34m)\u001b[0m\u001b[0;34m:\u001b[0m\u001b[0;34m\u001b[0m\u001b[0;34m\u001b[0m\u001b[0m\n",
            "\u001b[0;32m/usr/local/lib/python3.7/dist-packages/torch/nn/modules/module.py\u001b[0m in \u001b[0;36m_call_impl\u001b[0;34m(self, *input, **kwargs)\u001b[0m\n\u001b[1;32m    887\u001b[0m             \u001b[0mresult\u001b[0m \u001b[0;34m=\u001b[0m \u001b[0mself\u001b[0m\u001b[0;34m.\u001b[0m\u001b[0m_slow_forward\u001b[0m\u001b[0;34m(\u001b[0m\u001b[0;34m*\u001b[0m\u001b[0minput\u001b[0m\u001b[0;34m,\u001b[0m \u001b[0;34m**\u001b[0m\u001b[0mkwargs\u001b[0m\u001b[0;34m)\u001b[0m\u001b[0;34m\u001b[0m\u001b[0;34m\u001b[0m\u001b[0m\n\u001b[1;32m    888\u001b[0m         \u001b[0;32melse\u001b[0m\u001b[0;34m:\u001b[0m\u001b[0;34m\u001b[0m\u001b[0;34m\u001b[0m\u001b[0m\n\u001b[0;32m--> 889\u001b[0;31m             \u001b[0mresult\u001b[0m \u001b[0;34m=\u001b[0m \u001b[0mself\u001b[0m\u001b[0;34m.\u001b[0m\u001b[0mforward\u001b[0m\u001b[0;34m(\u001b[0m\u001b[0;34m*\u001b[0m\u001b[0minput\u001b[0m\u001b[0;34m,\u001b[0m \u001b[0;34m**\u001b[0m\u001b[0mkwargs\u001b[0m\u001b[0;34m)\u001b[0m\u001b[0;34m\u001b[0m\u001b[0;34m\u001b[0m\u001b[0m\n\u001b[0m\u001b[1;32m    890\u001b[0m         for hook in itertools.chain(\n\u001b[1;32m    891\u001b[0m                 \u001b[0m_global_forward_hooks\u001b[0m\u001b[0;34m.\u001b[0m\u001b[0mvalues\u001b[0m\u001b[0;34m(\u001b[0m\u001b[0;34m)\u001b[0m\u001b[0;34m,\u001b[0m\u001b[0;34m\u001b[0m\u001b[0;34m\u001b[0m\u001b[0m\n",
            "\u001b[0;32m<ipython-input-7-2bf3fc420e41>\u001b[0m in \u001b[0;36mforward\u001b[0;34m(self, x, labels)\u001b[0m\n\u001b[1;32m     32\u001b[0m     \u001b[0;32mdef\u001b[0m \u001b[0mforward\u001b[0m\u001b[0;34m(\u001b[0m\u001b[0mself\u001b[0m\u001b[0;34m,\u001b[0m \u001b[0mx\u001b[0m\u001b[0;34m,\u001b[0m \u001b[0mlabels\u001b[0m\u001b[0;34m)\u001b[0m\u001b[0;34m:\u001b[0m\u001b[0;34m\u001b[0m\u001b[0;34m\u001b[0m\u001b[0m\n\u001b[1;32m     33\u001b[0m         \u001b[0mc\u001b[0m \u001b[0;34m=\u001b[0m \u001b[0mself\u001b[0m\u001b[0;34m.\u001b[0m\u001b[0mlabel_embedding\u001b[0m\u001b[0;34m(\u001b[0m\u001b[0mlabels\u001b[0m\u001b[0;34m)\u001b[0m\u001b[0;34m\u001b[0m\u001b[0;34m\u001b[0m\u001b[0m\n\u001b[0;32m---> 34\u001b[0;31m         \u001b[0mx\u001b[0m \u001b[0;34m=\u001b[0m \u001b[0mtorch\u001b[0m\u001b[0;34m.\u001b[0m\u001b[0mcat\u001b[0m\u001b[0;34m(\u001b[0m\u001b[0;34m[\u001b[0m\u001b[0mx\u001b[0m\u001b[0;34m,\u001b[0m \u001b[0mc\u001b[0m\u001b[0;34m]\u001b[0m\u001b[0;34m,\u001b[0m \u001b[0;36m1\u001b[0m\u001b[0;34m)\u001b[0m\u001b[0;34m\u001b[0m\u001b[0;34m\u001b[0m\u001b[0m\n\u001b[0m\u001b[1;32m     35\u001b[0m         \u001b[0moutput\u001b[0m \u001b[0;34m=\u001b[0m \u001b[0mself\u001b[0m\u001b[0;34m.\u001b[0m\u001b[0mhidden_layer1\u001b[0m\u001b[0;34m(\u001b[0m\u001b[0mx\u001b[0m\u001b[0;34m)\u001b[0m\u001b[0;34m\u001b[0m\u001b[0;34m\u001b[0m\u001b[0m\n\u001b[1;32m     36\u001b[0m         \u001b[0moutput\u001b[0m \u001b[0;34m=\u001b[0m \u001b[0mself\u001b[0m\u001b[0;34m.\u001b[0m\u001b[0mhidden_layer2\u001b[0m\u001b[0;34m(\u001b[0m\u001b[0moutput\u001b[0m\u001b[0;34m)\u001b[0m\u001b[0;34m\u001b[0m\u001b[0;34m\u001b[0m\u001b[0m\n",
            "\u001b[0;31mRuntimeError\u001b[0m: Tensors must have same number of dimensions: got 2 and 3"
          ]
        }
      ]
    },
    {
      "cell_type": "markdown",
      "metadata": {
        "id": "-Yk6mNKGhynI"
      },
      "source": [
        "# How easy/hard is this task for the classifier? Why?"
      ]
    },
    {
      "cell_type": "markdown",
      "metadata": {
        "id": "Iy7ObcPnXou3"
      },
      "source": [
        "For the classifier, the task may be quite difficult. The generator will probably try to learn that sleeves are shorter for the t-shirts, which means that in the area where the sleeve stops for the t-shirt, we should observe a strong a marked difference between the black of the background and the white of the clothing. We see during the training that the generator ends up generating good examples for each of the classes. So the shape is not really a problem for the generator. Maybe it would have been different if we considered classes of clothing with very different shapes. The main difference between the fake and the real images is that the color on the center of the garment on the real images is often more solid than on the fake images."
      ]
    }
  ]
}